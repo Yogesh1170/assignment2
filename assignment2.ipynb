{
 "cells": [
  {
   "cell_type": "code",
   "execution_count": 24,
   "id": "75c8622d-1dae-47b9-bc3d-789a2bbcc646",
   "metadata": {},
   "outputs": [
    {
     "data": {
      "text/plain": [
       "'Comments in Python are done with a hash symbol, #, and extend to the end of the line.\\nHash characters in a string are not considered comments, however. \\nThese are the ways to write a comment - as a separate line, beside the corresponding statement of code, or as a multi-line comment block.'"
      ]
     },
     "execution_count": 24,
     "metadata": {},
     "output_type": "execute_result"
    }
   ],
   "source": [
    "#Q1. How do you comment code in Python? What are the different types of comments? \n",
    "'''Comments in Python are done with a hash symbol, #, and extend to the end of the line.\n",
    "Hash characters in a string are not considered comments, however. \n",
    "These are the ways to write a comment - as a separate line, beside the corresponding statement of code, or as a multi-line comment block.'''"
   ]
  },
  {
   "cell_type": "code",
   "execution_count": 12,
   "id": "c7599084-0d7e-4ebe-b547-fa71afb81a26",
   "metadata": {},
   "outputs": [
    {
     "data": {
      "text/plain": [
       "'Q2. What are variables in Python? How do you declare and assign values to variables?\\nA variable is a string of characters and numbers associated with a piece of information.value of variable also changable.\\nThe assignment operator,=, is the operator that is used to assign values to variables in Python.\\nThe variable x=1 assign value is  1 and assigns that value to the variable with name x.'"
      ]
     },
     "execution_count": 12,
     "metadata": {},
     "output_type": "execute_result"
    }
   ],
   "source": [
    "'''Q2. What are variables in Python? How do you declare and assign values to variables?\n",
    "A variable is a string of characters and numbers associated with a piece of information.value of variable also changable.\n",
    "The assignment operator,=, is the operator that is used to assign values to variables in Python.\n",
    "The variable x=1 assign value is  1 and assigns that value to the variable with name x.'''"
   ]
  },
  {
   "cell_type": "code",
   "execution_count": 13,
   "id": "60d4022f-4b7e-40f0-83cb-50f46240af50",
   "metadata": {},
   "outputs": [
    {
     "data": {
      "text/plain": [
       "'Q3. How do you convert one data type to another in Python?\\npython contains functions like int(),float(),str() for data type conversion , this is known as typecasting.'"
      ]
     },
     "execution_count": 13,
     "metadata": {},
     "output_type": "execute_result"
    }
   ],
   "source": [
    "'''Q3. How do you convert one data type to another in Python?\n",
    "python contains functions like int(),float(),str() for data type conversion , this is known as typecasting.'''"
   ]
  },
  {
   "cell_type": "code",
   "execution_count": 25,
   "id": "12e85169-5401-45fa-9229-694d50543316",
   "metadata": {},
   "outputs": [
    {
     "data": {
      "text/plain": [
       "'Q4. How do you write and execute a Python script from the command line?\\nYou need to open a command line and type the word python followed by .py \\nlike  python first.py Hello bachoo! Then press enter and our code is executed.'"
      ]
     },
     "execution_count": 25,
     "metadata": {},
     "output_type": "execute_result"
    }
   ],
   "source": [
    "'''Q4. How do you write and execute a Python script from the command line?\n",
    "You need to open a command line and type the word python followed by .py \n",
    "like  python first.py Hello bachoo! Then press enter and our code is executed.'''"
   ]
  },
  {
   "cell_type": "code",
   "execution_count": 27,
   "id": "cc0c5e94-8cdb-4fa5-9e0d-467255b9a280",
   "metadata": {},
   "outputs": [
    {
     "data": {
      "text/plain": [
       "[2, 3]"
      ]
     },
     "execution_count": 27,
     "metadata": {},
     "output_type": "execute_result"
    }
   ],
   "source": [
    "#Q5. Given a list my_list = [1, 2, 3, 4, 5], write the code to slice the list and obtain the sub-list [2, 3].\n",
    "my_list=[1,2,3,4,5]\n",
    "my_list[1:3]"
   ]
  },
  {
   "cell_type": "code",
   "execution_count": 28,
   "id": "d625e74a-f6de-486b-9aa8-1e3252745c9c",
   "metadata": {},
   "outputs": [
    {
     "data": {
      "text/plain": [
       "'Q6. What is a complex number in mathematics, and how is it represented in Python?\\nComplex numbers are the numbers that are expressed in the form of a+ib where\\na,b are real numbers and i is an imaginary number called iota.\\nand complex number in python is presented in form a+bj.'"
      ]
     },
     "execution_count": 28,
     "metadata": {},
     "output_type": "execute_result"
    }
   ],
   "source": [
    "'''Q6. What is a complex number in mathematics, and how is it represented in Python?\n",
    "Complex numbers are the numbers that are expressed in the form of a+ib where\n",
    "a,b are real numbers and i is an imaginary number called iota.\n",
    "and complex number in python is presented in form a+bj.''' "
   ]
  },
  {
   "cell_type": "code",
   "execution_count": 53,
   "id": "faff168a-15af-412b-91f2-cfdbf49c5abb",
   "metadata": {},
   "outputs": [
    {
     "name": "stdout",
     "output_type": "stream",
     "text": [
      "25\n"
     ]
    }
   ],
   "source": [
    "#Q7. What is the correct way to declare a variable named age and assign the value 25 to it.\n",
    "age ==25\n",
    "print(age)\n",
    "    \n",
    "    "
   ]
  },
  {
   "cell_type": "code",
   "execution_count": 52,
   "id": "9b1f110c-9ea1-465c-93bb-4ea7acee5e9c",
   "metadata": {},
   "outputs": [
    {
     "data": {
      "text/plain": [
       "float"
      ]
     },
     "execution_count": 52,
     "metadata": {},
     "output_type": "execute_result"
    }
   ],
   "source": [
    "#Q8. Declare a variable named price and assign the value 9.99 to it. What data type does this variable belong to.\n",
    "price = 9.99\n",
    "type(price)"
   ]
  },
  {
   "cell_type": "code",
   "execution_count": 54,
   "id": "40061864-e934-47c0-a84a-ab390668fd6b",
   "metadata": {},
   "outputs": [
    {
     "name": "stdout",
     "output_type": "stream",
     "text": [
      "Yogesh sharma\n"
     ]
    }
   ],
   "source": [
    "#Q9. Create a variable named name and assign your full name to it as a string. How would you print the value of this variable?\n",
    "name = 'Dadhimaan'\n",
    "print(name)\n"
   ]
  },
  {
   "cell_type": "code",
   "execution_count": 55,
   "id": "9af46311-cd54-41a2-9099-dea803fad179",
   "metadata": {},
   "outputs": [
    {
     "data": {
      "text/plain": [
       "'World'"
      ]
     },
     "execution_count": 55,
     "metadata": {},
     "output_type": "execute_result"
    }
   ],
   "source": [
    "#Q10. Given the string \"Hello, World!\", extract the substring \"World\".\n",
    "a = \"Hello, World!\"\n",
    "a[7:12]"
   ]
  },
  {
   "cell_type": "code",
   "execution_count": 57,
   "id": "df0b04fd-264c-4685-b3c7-f4dfbd9bd14a",
   "metadata": {},
   "outputs": [
    {
     "name": "stdout",
     "output_type": "stream",
     "text": [
      "True\n"
     ]
    }
   ],
   "source": [
    "#Q11. Create a variable named \"is_student\" and assign it a boolean value indicating whether you are currently a student or not.\n",
    "is_student = True or False\n",
    "type(is_student)\n",
    "print(is_student)\n"
   ]
  },
  {
   "cell_type": "code",
   "execution_count": null,
   "id": "a9c9090f-2021-4559-add7-59aa514c1013",
   "metadata": {},
   "outputs": [],
   "source": []
  }
 ],
 "metadata": {
  "kernelspec": {
   "display_name": "Python 3 (ipykernel)",
   "language": "python",
   "name": "python3"
  },
  "language_info": {
   "codemirror_mode": {
    "name": "ipython",
    "version": 3
   },
   "file_extension": ".py",
   "mimetype": "text/x-python",
   "name": "python",
   "nbconvert_exporter": "python",
   "pygments_lexer": "ipython3",
   "version": "3.10.8"
  }
 },
 "nbformat": 4,
 "nbformat_minor": 5
}
